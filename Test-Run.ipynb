{
  "cells": [
    {
      "metadata": {
        "trusted": true
      },
      "cell_type": "code",
      "source": "x = 5\nprint (x)\n",
      "execution_count": 1,
      "outputs": [
        {
          "output_type": "stream",
          "text": "5\n",
          "name": "stdout"
        }
      ]
    },
    {
      "metadata": {
        "trusted": true
      },
      "cell_type": "code",
      "source": "integer = 999\nfloat = 9.99\n\nprint (integer)\n",
      "execution_count": 2,
      "outputs": [
        {
          "output_type": "stream",
          "text": "999\n",
          "name": "stdout"
        }
      ]
    },
    {
      "metadata": {
        "trusted": true
      },
      "cell_type": "code",
      "source": "",
      "execution_count": null,
      "outputs": []
    },
    {
      "metadata": {
        "trusted": true
      },
      "cell_type": "code",
      "source": "\n\n",
      "execution_count": null,
      "outputs": []
    },
    {
      "metadata": {
        "trusted": true
      },
      "cell_type": "code",
      "source": "TodaysDate = \"9/10/19\"\nprint(TodaysDate)\n",
      "execution_count": 5,
      "outputs": [
        {
          "output_type": "stream",
          "text": "9/10/19\n",
          "name": "stdout"
        }
      ]
    },
    {
      "metadata": {
        "trusted": true
      },
      "cell_type": "code",
      "source": "string1 =\"DRIP \"\nx = \"ON\"\n\nprint(string1 + str(x))",
      "execution_count": 9,
      "outputs": [
        {
          "output_type": "stream",
          "text": "DRIP ON\n",
          "name": "stdout"
        }
      ]
    },
    {
      "metadata": {
        "trusted": true
      },
      "cell_type": "code",
      "source": "foods = [\"pizza\",\"money\",\"cars\",\"cheese\",\"chicken\"]\nprint(foods)",
      "execution_count": 8,
      "outputs": [
        {
          "output_type": "stream",
          "text": "['pizza', 'money', 'cars', 'cheese', 'chicken']\n",
          "name": "stdout"
        }
      ]
    },
    {
      "metadata": {
        "trusted": true
      },
      "cell_type": "code",
      "source": "",
      "execution_count": null,
      "outputs": []
    },
    {
      "metadata": {
        "trusted": true
      },
      "cell_type": "code",
      "source": "",
      "execution_count": null,
      "outputs": []
    }
  ],
  "metadata": {
    "kernelspec": {
      "name": "python36",
      "display_name": "Python 3.6",
      "language": "python"
    },
    "language_info": {
      "mimetype": "text/x-python",
      "nbconvert_exporter": "python",
      "name": "python",
      "pygments_lexer": "ipython3",
      "version": "3.6.6",
      "file_extension": ".py",
      "codemirror_mode": {
        "version": 3,
        "name": "ipython"
      }
    }
  },
  "nbformat": 4,
  "nbformat_minor": 2
}